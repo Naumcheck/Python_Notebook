{
  "nbformat": 4,
  "nbformat_minor": 0,
  "metadata": {
    "colab": {
      "provenance": []
    },
    "kernelspec": {
      "name": "python3",
      "display_name": "Python 3"
    },
    "language_info": {
      "name": "python"
    }
  },
  "cells": [
    {
      "cell_type": "markdown",
      "source": [
        "### Задача 1 (1 балл)\n",
        "\n",
        "\n",
        "$ 1.$\n",
        "\n",
        "Создайте с помощью np.random.randint numpy массив из 20-ти рандомных чисел.\n",
        "Посчитайте с помощью методов numpy и выведите на экран:\n",
        "\n",
        "* среднее значение в массиве\n",
        "* минимальное значение в массиве\n",
        "* максимальное значение в массиве\n",
        "* индекс минимального элемента в массиве\n",
        "* массив, который содержит те элементы исходного массива, которые больше 10\n",
        "\n",
        "\n",
        "$ 2.$\n",
        "1. Сгенерируйте рандомный массив b размера 3x1.\n",
        "2. Сгенерируйте матрицу С размера 3x3.\n",
        "3. Решите систему Cx = b с помощью numpy.linalg.solve (как это делать - можно почитать в документации: https://numpy.org/doc/stable/reference/generated/numpy.linalg.solve.html)\n",
        "4. Подумайте/погуглите, в каком случае numpy.linalg.solve вернет ошибку LinAlgError. Воспроизведите этот случай."
      ],
      "metadata": {
        "id": "ye_4O1r4eDZ_"
      }
    },
    {
      "cell_type": "markdown",
      "source": [
        "Пользуйтесь документацией numpy:  https://numpy.org"
      ],
      "metadata": {
        "id": "m8DDcNCt03NQ"
      }
    },
    {
      "cell_type": "code",
      "source": [
        "import numpy as np"
      ],
      "metadata": {
        "id": "GqO9jTvhofAf"
      },
      "execution_count": 1,
      "outputs": []
    },
    {
      "cell_type": "code",
      "source": [
        "massiv = np.random.randint(1, 100, 20)\n",
        "massiv"
      ],
      "metadata": {
        "colab": {
          "base_uri": "https://localhost:8080/"
        },
        "id": "R0eAOavzgN01",
        "outputId": "b6125a3d-95b5-42fa-9d49-bf1c7de463bd"
      },
      "execution_count": 2,
      "outputs": [
        {
          "output_type": "execute_result",
          "data": {
            "text/plain": [
              "array([72, 14, 44, 59, 73, 54, 99, 17, 75, 64, 76, 75, 46, 84, 39, 57, 10,\n",
              "       53, 62, 83])"
            ]
          },
          "metadata": {},
          "execution_count": 2
        }
      ]
    },
    {
      "cell_type": "code",
      "source": [
        "#среднее значение в массиве\n",
        "mean = massiv.mean()\n",
        "mean"
      ],
      "metadata": {
        "colab": {
          "base_uri": "https://localhost:8080/"
        },
        "id": "oy-f1wblgfCc",
        "outputId": "8d494f72-e048-427a-d2cc-b224137f8dd6"
      },
      "execution_count": 3,
      "outputs": [
        {
          "output_type": "execute_result",
          "data": {
            "text/plain": [
              "57.8"
            ]
          },
          "metadata": {},
          "execution_count": 3
        }
      ]
    },
    {
      "cell_type": "code",
      "source": [
        "#минимальное значение в массиве\n",
        "min = massiv.min()\n",
        "min"
      ],
      "metadata": {
        "colab": {
          "base_uri": "https://localhost:8080/"
        },
        "id": "17NlzIO7gl7b",
        "outputId": "3b90ef68-8ea5-4215-c4ff-7098866f7d1e"
      },
      "execution_count": 4,
      "outputs": [
        {
          "output_type": "execute_result",
          "data": {
            "text/plain": [
              "10"
            ]
          },
          "metadata": {},
          "execution_count": 4
        }
      ]
    },
    {
      "cell_type": "code",
      "source": [
        "#максимальное значение в массиве\n",
        "max = massiv.max()\n",
        "max"
      ],
      "metadata": {
        "colab": {
          "base_uri": "https://localhost:8080/"
        },
        "id": "vE4Fl2MjgsW_",
        "outputId": "03f4af6c-fbd7-4cea-b05b-e497754614cb"
      },
      "execution_count": 5,
      "outputs": [
        {
          "output_type": "execute_result",
          "data": {
            "text/plain": [
              "99"
            ]
          },
          "metadata": {},
          "execution_count": 5
        }
      ]
    },
    {
      "cell_type": "code",
      "source": [
        "#индекс минимального элемента в массиве\n",
        "#https://numpy.org/doc/stable/reference/generated/numpy.argmin.html\n",
        "idx = massiv.argmin()\n",
        "idx"
      ],
      "metadata": {
        "colab": {
          "base_uri": "https://localhost:8080/"
        },
        "id": "bVuVm6vMgyZV",
        "outputId": "5b595e06-b72d-4878-f3a3-4c8e99e2ea67"
      },
      "execution_count": 6,
      "outputs": [
        {
          "output_type": "execute_result",
          "data": {
            "text/plain": [
              "16"
            ]
          },
          "metadata": {},
          "execution_count": 6
        }
      ]
    },
    {
      "cell_type": "code",
      "source": [
        "#массив, который содержит те элементы исходного массива, которые больше 10\n",
        "new_massiv = massiv[massiv > 10]\n",
        "new_massiv"
      ],
      "metadata": {
        "colab": {
          "base_uri": "https://localhost:8080/"
        },
        "id": "gu4X8fx4hb1a",
        "outputId": "db2c3717-8667-4fee-d87f-d345995ccfb9"
      },
      "execution_count": 7,
      "outputs": [
        {
          "output_type": "execute_result",
          "data": {
            "text/plain": [
              "array([72, 14, 44, 59, 73, 54, 99, 17, 75, 64, 76, 75, 46, 84, 39, 57, 53,\n",
              "       62, 83])"
            ]
          },
          "metadata": {},
          "execution_count": 7
        }
      ]
    },
    {
      "cell_type": "code",
      "source": [
        "#Сгенерируйте рандомный массив b размера 3x1.\n",
        "\n",
        "rand_massiv = np.random.rand(3, 1)\n",
        "rand_massiv"
      ],
      "metadata": {
        "colab": {
          "base_uri": "https://localhost:8080/"
        },
        "id": "oJoVop9miArg",
        "outputId": "8633760a-c926-4dfa-ceb5-e1c37556d974"
      },
      "execution_count": 8,
      "outputs": [
        {
          "output_type": "execute_result",
          "data": {
            "text/plain": [
              "array([[0.84167946],\n",
              "       [0.53385116],\n",
              "       [0.76842521]])"
            ]
          },
          "metadata": {},
          "execution_count": 8
        }
      ]
    },
    {
      "cell_type": "code",
      "source": [
        "#Сгенерируйте матрицу С размера 3x3.\n",
        "matrix = np.random.rand(3, 3)\n",
        "matrix"
      ],
      "metadata": {
        "colab": {
          "base_uri": "https://localhost:8080/"
        },
        "id": "ln5LtDppiXpg",
        "outputId": "f86e074f-751c-4084-b81a-21886f86efce"
      },
      "execution_count": 9,
      "outputs": [
        {
          "output_type": "execute_result",
          "data": {
            "text/plain": [
              "array([[0.19131314, 0.15766017, 0.8737711 ],\n",
              "       [0.94853219, 0.32846124, 0.23420024],\n",
              "       [0.87709027, 0.28228193, 0.18945915]])"
            ]
          },
          "metadata": {},
          "execution_count": 9
        }
      ]
    },
    {
      "cell_type": "code",
      "source": [
        "#Решите систему Cx = b с помощью numpy.linalg.solve (как это делать - можно почитать в документации:\n",
        "\n",
        "C = matrix\n",
        "b = rand_massiv\n",
        "x = np.linalg.solve(C, b)\n",
        "x"
      ],
      "metadata": {
        "colab": {
          "base_uri": "https://localhost:8080/"
        },
        "id": "fvqPKUkyioVi",
        "outputId": "27d88bbd-29fd-4c0d-f8db-19aaf1528265"
      },
      "execution_count": 10,
      "outputs": [
        {
          "output_type": "execute_result",
          "data": {
            "text/plain": [
              "array([[  5.51230183],\n",
              "       [-16.20416842],\n",
              "       [  2.68017059]])"
            ]
          },
          "metadata": {},
          "execution_count": 10
        }
      ]
    },
    {
      "cell_type": "markdown",
      "source": [
        "**2.4 Такое может быть в том случае, если матрица С вырожденная(определитель = 0) или рамзерность C и b несогласованы.**"
      ],
      "metadata": {
        "id": "Xw1EVWpLjGcd"
      }
    },
    {
      "cell_type": "code",
      "source": [
        "C = np.array([\n",
        "    [2, 0, 1],\n",
        "    [4, 0, 2],\n",
        "    [1, 3, 0]\n",
        "])\n",
        "b = rand_massiv\n",
        "x = np.linalg.solve(C, b)"
      ],
      "metadata": {
        "colab": {
          "base_uri": "https://localhost:8080/",
          "height": 338
        },
        "id": "rSnYunpWjdAN",
        "outputId": "adf3a9a7-d0e9-48d8-da4d-3511163b1c11"
      },
      "execution_count": 11,
      "outputs": [
        {
          "output_type": "error",
          "ename": "LinAlgError",
          "evalue": "Singular matrix",
          "traceback": [
            "\u001b[0;31m---------------------------------------------------------------------------\u001b[0m",
            "\u001b[0;31mLinAlgError\u001b[0m                               Traceback (most recent call last)",
            "\u001b[0;32m<ipython-input-11-99ce0a19f168>\u001b[0m in \u001b[0;36m<cell line: 7>\u001b[0;34m()\u001b[0m\n\u001b[1;32m      5\u001b[0m ])\n\u001b[1;32m      6\u001b[0m \u001b[0mb\u001b[0m \u001b[0;34m=\u001b[0m \u001b[0mrand_massiv\u001b[0m\u001b[0;34m\u001b[0m\u001b[0;34m\u001b[0m\u001b[0m\n\u001b[0;32m----> 7\u001b[0;31m \u001b[0mx\u001b[0m \u001b[0;34m=\u001b[0m \u001b[0mnp\u001b[0m\u001b[0;34m.\u001b[0m\u001b[0mlinalg\u001b[0m\u001b[0;34m.\u001b[0m\u001b[0msolve\u001b[0m\u001b[0;34m(\u001b[0m\u001b[0mC\u001b[0m\u001b[0;34m,\u001b[0m \u001b[0mb\u001b[0m\u001b[0;34m)\u001b[0m\u001b[0;34m\u001b[0m\u001b[0;34m\u001b[0m\u001b[0m\n\u001b[0m",
            "\u001b[0;32m/usr/local/lib/python3.10/dist-packages/numpy/linalg/linalg.py\u001b[0m in \u001b[0;36msolve\u001b[0;34m(a, b)\u001b[0m\n\u001b[1;32m    407\u001b[0m     \u001b[0msignature\u001b[0m \u001b[0;34m=\u001b[0m \u001b[0;34m'DD->D'\u001b[0m \u001b[0;32mif\u001b[0m \u001b[0misComplexType\u001b[0m\u001b[0;34m(\u001b[0m\u001b[0mt\u001b[0m\u001b[0;34m)\u001b[0m \u001b[0;32melse\u001b[0m \u001b[0;34m'dd->d'\u001b[0m\u001b[0;34m\u001b[0m\u001b[0;34m\u001b[0m\u001b[0m\n\u001b[1;32m    408\u001b[0m     \u001b[0mextobj\u001b[0m \u001b[0;34m=\u001b[0m \u001b[0mget_linalg_error_extobj\u001b[0m\u001b[0;34m(\u001b[0m\u001b[0m_raise_linalgerror_singular\u001b[0m\u001b[0;34m)\u001b[0m\u001b[0;34m\u001b[0m\u001b[0;34m\u001b[0m\u001b[0m\n\u001b[0;32m--> 409\u001b[0;31m     \u001b[0mr\u001b[0m \u001b[0;34m=\u001b[0m \u001b[0mgufunc\u001b[0m\u001b[0;34m(\u001b[0m\u001b[0ma\u001b[0m\u001b[0;34m,\u001b[0m \u001b[0mb\u001b[0m\u001b[0;34m,\u001b[0m \u001b[0msignature\u001b[0m\u001b[0;34m=\u001b[0m\u001b[0msignature\u001b[0m\u001b[0;34m,\u001b[0m \u001b[0mextobj\u001b[0m\u001b[0;34m=\u001b[0m\u001b[0mextobj\u001b[0m\u001b[0;34m)\u001b[0m\u001b[0;34m\u001b[0m\u001b[0;34m\u001b[0m\u001b[0m\n\u001b[0m\u001b[1;32m    410\u001b[0m \u001b[0;34m\u001b[0m\u001b[0m\n\u001b[1;32m    411\u001b[0m     \u001b[0;32mreturn\u001b[0m \u001b[0mwrap\u001b[0m\u001b[0;34m(\u001b[0m\u001b[0mr\u001b[0m\u001b[0;34m.\u001b[0m\u001b[0mastype\u001b[0m\u001b[0;34m(\u001b[0m\u001b[0mresult_t\u001b[0m\u001b[0;34m,\u001b[0m \u001b[0mcopy\u001b[0m\u001b[0;34m=\u001b[0m\u001b[0;32mFalse\u001b[0m\u001b[0;34m)\u001b[0m\u001b[0;34m)\u001b[0m\u001b[0;34m\u001b[0m\u001b[0;34m\u001b[0m\u001b[0m\n",
            "\u001b[0;32m/usr/local/lib/python3.10/dist-packages/numpy/linalg/linalg.py\u001b[0m in \u001b[0;36m_raise_linalgerror_singular\u001b[0;34m(err, flag)\u001b[0m\n\u001b[1;32m    110\u001b[0m \u001b[0;34m\u001b[0m\u001b[0m\n\u001b[1;32m    111\u001b[0m \u001b[0;32mdef\u001b[0m \u001b[0m_raise_linalgerror_singular\u001b[0m\u001b[0;34m(\u001b[0m\u001b[0merr\u001b[0m\u001b[0;34m,\u001b[0m \u001b[0mflag\u001b[0m\u001b[0;34m)\u001b[0m\u001b[0;34m:\u001b[0m\u001b[0;34m\u001b[0m\u001b[0;34m\u001b[0m\u001b[0m\n\u001b[0;32m--> 112\u001b[0;31m     \u001b[0;32mraise\u001b[0m \u001b[0mLinAlgError\u001b[0m\u001b[0;34m(\u001b[0m\u001b[0;34m\"Singular matrix\"\u001b[0m\u001b[0;34m)\u001b[0m\u001b[0;34m\u001b[0m\u001b[0;34m\u001b[0m\u001b[0m\n\u001b[0m\u001b[1;32m    113\u001b[0m \u001b[0;34m\u001b[0m\u001b[0m\n\u001b[1;32m    114\u001b[0m \u001b[0;32mdef\u001b[0m \u001b[0m_raise_linalgerror_nonposdef\u001b[0m\u001b[0;34m(\u001b[0m\u001b[0merr\u001b[0m\u001b[0;34m,\u001b[0m \u001b[0mflag\u001b[0m\u001b[0;34m)\u001b[0m\u001b[0;34m:\u001b[0m\u001b[0;34m\u001b[0m\u001b[0;34m\u001b[0m\u001b[0m\n",
            "\u001b[0;31mLinAlgError\u001b[0m: Singular matrix"
          ]
        }
      ]
    },
    {
      "cell_type": "markdown",
      "source": [
        "### Задача 2 (0.5 балла)\n",
        "Ниже создаются две матрицы A, B."
      ],
      "metadata": {
        "id": "q-oSixsb09RV"
      }
    },
    {
      "cell_type": "code",
      "source": [
        "A = np.array([[1, 2, 30], [2, 1, 3], [20, 1, 3]])\n",
        "B = np.array([[8, 12, 19], [12, 13, 11], [10, 2, 3]])"
      ],
      "metadata": {
        "id": "F93ouxr91AK-"
      },
      "execution_count": 12,
      "outputs": []
    },
    {
      "cell_type": "code",
      "source": [
        "A"
      ],
      "metadata": {
        "colab": {
          "base_uri": "https://localhost:8080/"
        },
        "id": "WCm95Nuu1e_L",
        "outputId": "a8198d0f-392b-426b-b574-215015467e80"
      },
      "execution_count": 13,
      "outputs": [
        {
          "output_type": "execute_result",
          "data": {
            "text/plain": [
              "array([[ 1,  2, 30],\n",
              "       [ 2,  1,  3],\n",
              "       [20,  1,  3]])"
            ]
          },
          "metadata": {},
          "execution_count": 13
        }
      ]
    },
    {
      "cell_type": "code",
      "source": [
        "B"
      ],
      "metadata": {
        "colab": {
          "base_uri": "https://localhost:8080/"
        },
        "id": "vEL0jLkq1fd_",
        "outputId": "ea19f3e6-4913-4cff-d196-7c70cf6c80e0"
      },
      "execution_count": 14,
      "outputs": [
        {
          "output_type": "execute_result",
          "data": {
            "text/plain": [
              "array([[ 8, 12, 19],\n",
              "       [12, 13, 11],\n",
              "       [10,  2,  3]])"
            ]
          },
          "metadata": {},
          "execution_count": 14
        }
      ]
    },
    {
      "cell_type": "markdown",
      "source": [
        "С помощью numpy найдите:\n",
        "1. Сумма матриц A и B\n",
        "2. Произведение матриц A и B\n",
        "3. Произведение матриц B и A\n",
        "4. Определители матриц A и B\n",
        "5. Матрицу $A^T + BA$\n",
        "6. Матрицу, обратную к матрице A\n",
        "\n",
        "Пользуйтесь документацией numpy:  https://numpy.org"
      ],
      "metadata": {
        "id": "Unitf67H1lLh"
      }
    },
    {
      "cell_type": "code",
      "source": [
        "#Сумма матриц A и B\n",
        "#https://numpy.org/doc/stable/reference/generated/numpy.add.html\n",
        "sum = np.add(A, B)\n",
        "sum"
      ],
      "metadata": {
        "colab": {
          "base_uri": "https://localhost:8080/"
        },
        "id": "mHYVfmlwkosV",
        "outputId": "81888f04-ea71-4ce6-fe51-03bdc9dfd767"
      },
      "execution_count": 15,
      "outputs": [
        {
          "output_type": "execute_result",
          "data": {
            "text/plain": [
              "array([[ 9, 14, 49],\n",
              "       [14, 14, 14],\n",
              "       [30,  3,  6]])"
            ]
          },
          "metadata": {},
          "execution_count": 15
        }
      ]
    },
    {
      "cell_type": "code",
      "source": [
        "#Произведение матриц A и B\n",
        "#https://numpy.org/doc/stable/reference/generated/numpy.dot.html\n",
        "dot = np.dot(A, B)\n",
        "dot"
      ],
      "metadata": {
        "colab": {
          "base_uri": "https://localhost:8080/"
        },
        "id": "EiVfKWQdk-QO",
        "outputId": "d66a567f-df5a-4da0-a779-a49599caad7c"
      },
      "execution_count": 16,
      "outputs": [
        {
          "output_type": "execute_result",
          "data": {
            "text/plain": [
              "array([[332,  98, 131],\n",
              "       [ 58,  43,  58],\n",
              "       [202, 259, 400]])"
            ]
          },
          "metadata": {},
          "execution_count": 16
        }
      ]
    },
    {
      "cell_type": "code",
      "source": [
        "#Произведение матриц B и A\n",
        "dot = np.dot(B, A)\n",
        "dot"
      ],
      "metadata": {
        "colab": {
          "base_uri": "https://localhost:8080/"
        },
        "id": "3OzMNpgYlIFj",
        "outputId": "1c25f719-170d-4753-f1ba-d6f83b228125"
      },
      "execution_count": 17,
      "outputs": [
        {
          "output_type": "execute_result",
          "data": {
            "text/plain": [
              "array([[412,  47, 333],\n",
              "       [258,  48, 432],\n",
              "       [ 74,  25, 315]])"
            ]
          },
          "metadata": {},
          "execution_count": 17
        }
      ]
    },
    {
      "cell_type": "code",
      "source": [
        "#Определители матриц A и B\n",
        "#https://numpy.org/doc/stable/reference/generated/numpy.linalg.det.html\n",
        "det_A = np.linalg.det(A)\n",
        "det_B = np.linalg.det(B)"
      ],
      "metadata": {
        "id": "V3YB1dkolQYh"
      },
      "execution_count": 18,
      "outputs": []
    },
    {
      "cell_type": "code",
      "source": [
        "#Матрицу  AT+BA\n",
        "result = A.T + dot\n",
        "result"
      ],
      "metadata": {
        "colab": {
          "base_uri": "https://localhost:8080/"
        },
        "id": "rZwx6ibHuE-V",
        "outputId": "d2edd2d5-364c-4da0-dd0f-c18d76398f0d"
      },
      "execution_count": 19,
      "outputs": [
        {
          "output_type": "execute_result",
          "data": {
            "text/plain": [
              "array([[413,  49, 353],\n",
              "       [260,  49, 433],\n",
              "       [104,  28, 318]])"
            ]
          },
          "metadata": {},
          "execution_count": 19
        }
      ]
    },
    {
      "cell_type": "code",
      "source": [
        "#Матрицу, обратную к матрице A\n",
        "#https://numpy.org/doc/stable/reference/generated/numpy.linalg.inv.html\n",
        "A_1 = np.linalg.inv(A)\n",
        "A_1"
      ],
      "metadata": {
        "colab": {
          "base_uri": "https://localhost:8080/"
        },
        "id": "C0Keh9ypuSqd",
        "outputId": "6a53dd9f-cc4b-47e1-a366-2ce5268f5fca"
      },
      "execution_count": 20,
      "outputs": [
        {
          "output_type": "execute_result",
          "data": {
            "text/plain": [
              "array([[-5.55111512e-18, -5.55555556e-02,  5.55555556e-02],\n",
              "       [-1.25000000e-01,  1.38194444e+00, -1.31944444e-01],\n",
              "       [ 4.16666667e-02, -9.02777778e-02,  6.94444444e-03]])"
            ]
          },
          "metadata": {},
          "execution_count": 20
        }
      ]
    },
    {
      "cell_type": "code",
      "source": [
        "import time # понадобится для замера времени в следующей задаче"
      ],
      "metadata": {
        "id": "PrhUt9Ux1L9X"
      },
      "execution_count": 21,
      "outputs": []
    },
    {
      "cell_type": "markdown",
      "source": [
        "### Задача 3 (2 балла)\n",
        "\n",
        "Сравните производительность операций умножения матриц с использованием библиотеки NumPy и стандартных списков Python для матриц размером от 2x2 до 100x100.\n",
        "\n",
        "1. Сгенерируйте две матрицы A и B случайного размера от nxn, заполненные случайными целыми числами от 1 до 50.\n",
        "2. Используя библиотеку NumPy, выполните умножение матриц A и B. Измерьте время выполнения операции.\n",
        "3. Реализуйте функцию для умножения матриц с помощью стандартных списков Python. Измерьте время выполнения этой операции.\n",
        "4. Сделайте вышеперечисленные пункты для n=2,...100 (используйте цикл).\n",
        "5. Для какого-нибудь n проверьте, что результаты умножения (получившаяся матрица) совпадают.\n",
        "\n",
        "\n",
        "6. Постройте график, где по оси X будет размер матрицы, по оси Y - время выполнения операции. Постройте два графика (для numpy и для стандартных списков)\n",
        "Сделайте выводы.\n",
        "В качестве шаблона можете использовать части кода ниже (а можете не использовать)\n"
      ],
      "metadata": {
        "id": "pWPq7FRRkkAF"
      }
    },
    {
      "cell_type": "code",
      "source": [
        "def multiply(A, B):\n",
        "    # ваша реализация функции умножения матриц для списков\n",
        "\n",
        "    n = len(A)\n",
        "    result = np.zeros((n, n))\n",
        "    #логику взяла с вики https://ru.wikipedia.org/wiki/Умножение_матриц\n",
        "    for i in range(n):\n",
        "      for j in range(n):\n",
        "        for l in range(n):\n",
        "          result[i][j] += A[i][l] * B[l][j]\n",
        "\n",
        "    return result\n",
        "\n",
        "numpy_times, list_times = [], [] #для хранения времени\n",
        "\n",
        "for n in range(2, 101):\n",
        "    A = np.random.randint(1, 51, size=(n, n))\n",
        "    B = np.random.randint(1, 51, size=(n, n))\n",
        "    A_list = A.tolist()\n",
        "    B_list = B.tolist()\n",
        "# ваш код\n",
        "    #умножение через встроенную функцию\n",
        "    start_numpy = time.time()\n",
        "    result_numpy = np.dot(A, B)\n",
        "    end_numpy = time.time()\n",
        "    numpy_times.append(end_numpy - start_numpy)\n",
        "\n",
        "    #умножение через списки\n",
        "    start_list = time.time()\n",
        "    result = multiply(A_list, B_list)\n",
        "    end_list = time.time()\n",
        "    list_times.append(end_list - start_list)\n",
        "\n",
        "    #проверим что результаты умножения равны:\n",
        "    #для проверки равности матриц:https://numpy.org/doc/stable/reference/generated/numpy.array_equal.html\n",
        "    if n == 3:\n",
        "      print(\"Матрица А\\n\", A)\n",
        "      print(\"Матрица B\\n\", B)\n",
        "      print(\"Результаты через NumPy:\\n\", result_numpy, \"\\n\")\n",
        "      print(\"Результаты через списки:\\n\", result, \"\\n\")\n",
        "      if np.array_equal(result_numpy, result):\n",
        "        print(\"Результаты совпали\")\n",
        "      else:\n",
        "        print(\"Результаты не совпали\\n\")"
      ],
      "metadata": {
        "id": "2PHx1CNP2vaS",
        "colab": {
          "base_uri": "https://localhost:8080/"
        },
        "outputId": "a18baaa5-27c9-4a32-ee31-8bf0663aa216"
      },
      "execution_count": 23,
      "outputs": [
        {
          "output_type": "stream",
          "name": "stdout",
          "text": [
            "Матрица А\n",
            " [[11 36 30]\n",
            " [22  7 16]\n",
            " [12 17  8]]\n",
            "Матрица B\n",
            " [[37 32 23]\n",
            " [39  5 13]\n",
            " [41 15 18]]\n",
            "Результаты через NumPy:\n",
            " [[3041  982 1261]\n",
            " [1743  979  885]\n",
            " [1435  589  641]] \n",
            "\n",
            "Результаты через списки:\n",
            " [[3041.  982. 1261.]\n",
            " [1743.  979.  885.]\n",
            " [1435.  589.  641.]] \n",
            "\n",
            "Результаты совпали\n"
          ]
        }
      ]
    },
    {
      "cell_type": "code",
      "source": [
        "import matplotlib.pyplot as plt\n",
        "\n",
        "sizes = range(2, 101)\n",
        "\n",
        "plt.figure(figsize=(12, 6))\n",
        "plt.plot(sizes, numpy_times, label='NumPy')\n",
        "plt.plot(sizes, list_times, label='List')\n",
        "plt.xlabel('n')\n",
        "plt.ylabel('Time (ms)')\n",
        "plt.title('Время выполнения умножения')\n",
        "plt.legend()\n",
        "plt.grid()\n",
        "plt.show()"
      ],
      "metadata": {
        "id": "FKD4JOEHlCLq",
        "colab": {
          "base_uri": "https://localhost:8080/",
          "height": 564
        },
        "outputId": "d2a3ebf1-e130-44c6-d164-30defdca22fc"
      },
      "execution_count": 24,
      "outputs": [
        {
          "output_type": "display_data",
          "data": {
            "text/plain": [
              "<Figure size 1200x600 with 1 Axes>"
            ],
            "image/png": "[encoded data removed]"
          },
          "metadata": {}
        }
      ]
    },
    {
      "cell_type": "markdown",
      "source": [
        "Получается, что выполнение с помощь встроенной функции существенно быстрее. Особенно это можно заметить при больших размерах матрицы(начиная примерно с 30), это связано как минимум с тем, что решая с помощью списков - мы используем аж 3 цикла и время выполнения растчет с квадратичной скоростью."
      ],
      "metadata": {
        "id": "cch9En-p5t1O"
      }
    }
  ]
}